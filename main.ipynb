{
 "cells": [
  {
   "cell_type": "markdown",
   "metadata": {},
   "source": [
    "# Postupci praćenja objekata u računalnom vidu radnim okvirom OpenCV\n",
    "  \n",
    " ### Diplomski projekt: http://www.fer.unizg.hr/predmet/pro_dipl, siječanj 2018. FER, 2017/2018\n",
    " #### Autor: Tomislav Lokotar\n",
    " #### Mentor: izv. prof. dr. sc. Zoran Kalafatić"
   ]
  },
  {
   "cell_type": "markdown",
   "metadata": {},
   "source": [
    "# 1. Uvod\n",
    "\n",
    "OpenCV je vrlo raširen radni okvir koji nudi mnoge mogućnosti u kontekstu računalnog vida. Praćenje objekata u pokretu čest je problem kojeg je moguće upotrijebiti u razne svrhe. U ovom radu iznesen je kratak pregled implementiranih metoda za praćenje objekata, te njihova usporedba na javno dostupnim snimkama. Aktualna verzija u trenutku pisanja je OpenCV 3.4.0 u kojoj su implementirani slijedeći algoritmi praćenja: MedianFlow, MIL, GOTURN, KCF, Boosting, MOSSE i TLD. U sklopu projekta razvijen je i softver za usporedbu ugrađenih metoda praćenja. Skup podataka na kojem su algoritmi testirani je TB-50 [1]. TB-50 je skup 50 označenih sekvenci na kojima je označen najmanje jedan objekt koji se prati. Svi algoritmi, osim GOTURN s greškom u implementaciji [2], su uspješno testirani. Na slici 1 prikazan je prozor generiram skriptom za testiranje praćenja na videu s pokretnom kamerom, u procesu praćenja košarkaškog igrača algoritmom MIL.\n",
    "\n",
    "![slika1](docs/kosarka.png)\n",
    "<center>Slika 1: praćenje unaprijed označenog košarkaša na videosnimci</center> \n"
   ]
  },
  {
   "cell_type": "code",
   "execution_count": 18,
   "metadata": {},
   "outputs": [],
   "source": [
    "import cv2\n",
    "import numpy as np\n",
    "import cv_utils\n",
    "import bench_utils\n",
    "import tb_50"
   ]
  },
  {
   "cell_type": "code",
   "execution_count": 2,
   "metadata": {},
   "outputs": [
    {
     "name": "stdout",
     "output_type": "stream",
     "text": [
      "Python version: 3.5.2\n",
      "OpenCV version: 3.4.0\n",
      "\n",
      "Available tracking algorithms:\n",
      "TrackerTLD, TrackerKCF, TrackerGOTURN, TrackerMIL, TrackerMOSSE, TrackerMedianFlow, TrackerBoosting\n"
     ]
    }
   ],
   "source": [
    "cv_utils.info()"
   ]
  },
  {
   "cell_type": "code",
   "execution_count": 7,
   "metadata": {},
   "outputs": [
    {
     "name": "stdout",
     "output_type": "stream",
     "text": [
      "TrackerTLD\n",
      "TrackerKCF\n",
      "TrackerGOTURN\n",
      "TrackerMIL\n",
      "TrackerMOSSE\n",
      "TrackerMedianFlow\n",
      "TrackerBoosting\n"
     ]
    }
   ],
   "source": [
    "algorithms = cv_utils.tracking_algorithms()\n",
    "\n",
    "for alg in algorithms:\n",
    "    print(alg)"
   ]
  },
  {
   "cell_type": "markdown",
   "metadata": {},
   "source": [
    "U rječniku <i>algorithms</i> pohranjeni su uređeni parovi konstruktora objekata koji predstavljaju algoritme praćenja, te pripadajuće funkcije za njihovo instanciranje."
   ]
  },
  {
   "cell_type": "code",
   "execution_count": 8,
   "metadata": {},
   "outputs": [
    {
     "data": {
      "text/plain": [
       "(cv2.TrackerGOTURN, <function TrackerGOTURN_create>)"
      ]
     },
     "execution_count": 8,
     "metadata": {},
     "output_type": "execute_result"
    }
   ],
   "source": [
    "algorithms['TrackerGOTURN']"
   ]
  },
  {
   "cell_type": "code",
   "execution_count": 11,
   "metadata": {},
   "outputs": [],
   "source": [
    "goturn_create = algorithms['TrackerGOTURN'][1]\n",
    "\n",
    "goturn_tracker = goturn_create()"
   ]
  },
  {
   "cell_type": "markdown",
   "metadata": {},
   "source": [
    "U trenutnoj verziji OpenCV-a nije moguće pratiti objekt algoritmom GOTURN [3], pa je njegova funkcionalnost izuzeta iz evaluacije algoritama."
   ]
  },
  {
   "cell_type": "markdown",
   "metadata": {},
   "source": [
    "# 2 Analiza uspješnosti algoritama praćenja\n",
    "\n",
    "## 2.1 Mjera uspješnosti praćenja\n",
    "\n",
    "Kao mjera uspješnosti praćenja objekata korištena je funkcija $$C_{suc}(f)= \\frac{\\left | r\\cap  r_g \\right |}{\\left | r \\cup r_g\\right |  }$$ na sličan način kao što su je koristili Janku, Koplik, Dulik[4]. Varijabla <i>r</i> predstavlja pravokutnik označen algoritmom praćenja, dok je <i>r<sub>g</sub></i> pravokutnik ručno označen na korištenim sekvencama. Idealna vrijednost, kad algoritam praćenja označi pravokutnik koji se poklapa s označenim, je 1. 0 je najmanja vrijednost i predstavlja promašaj u postupku praćenja. Mjerenje se vrši za svaku sličicu sekvence. Postupak testiranja počinje inicijalizacijom algoritma praćenja s ručno označenim pravokutnikom. Ukoliko algoritam praćenja u nekom trenutku postigne vrijednost funkcije <i>C<sub>suc</sub></i> ispod postavljene granice (obično 0.5 ili više), algoritam se reinicijalizira na ručno označeno područje, a broj reinicijalizacija se inkrementira. U situaciji praćenja objekta u stvarnom vremenu, reinicijalizacija se može poistovjetiti s upotrijebom detektora objekata.\n",
    "\n",
    "## 2.2 Podaci za testiranje\n",
    "\n",
    "Skup podataka na kojima su testirani algoritmi je TB-50[5]. TB-50 je javno dostupan označen skup podataka sa sekvencama u svrhu evalucije algoritama praćenja. Svaka sekvenca ima postavljenu jednu ili više zastavica ovisno o vrsti problema. Vrste problema uključuju nagle promjene osvjetljenja na objekt u praćenju, nagle promjene udaljenosti objekata, prekrivanje objekta, deformacije, zamućenost, brze pokrete, rotacije, napuštanje okvira snimke, tešku razlučivost objekta u odnosu na njegovu pozadinu, te snimke niske rezolucije."
   ]
  },
  {
   "cell_type": "markdown",
   "metadata": {},
   "source": [
    "Popis video datoteka:"
   ]
  },
  {
   "cell_type": "code",
   "execution_count": 22,
   "metadata": {},
   "outputs": [
    {
     "name": "stdout",
     "output_type": "stream",
     "text": [
      "./TB-50/Basketball/\n",
      "./TB-50/Biker/\n",
      "./TB-50/Bird1/\n",
      "./TB-50/BlurBody/\n",
      "./TB-50/BlurCar2/\n",
      "./TB-50/BlurFace/\n",
      "./TB-50/BlurOwl/\n",
      "./TB-50/Box/\n",
      "./TB-50/Car1/\n",
      "./TB-50/Car4/\n",
      "./TB-50/CarDark/\n",
      "./TB-50/CarScale/\n",
      "./TB-50/ClifBar/\n",
      "./TB-50/Couple/\n",
      "./TB-50/Crowds/\n",
      "./TB-50/Deer/\n",
      "./TB-50/DragonBaby/\n",
      "./TB-50/Dudek/\n",
      "./TB-50/Girl/\n",
      "./TB-50/Human6/\n",
      "./TB-50/Human9/\n",
      "./TB-50/Ironman/\n",
      "./TB-50/Jump/\n",
      "./TB-50/Jumping/\n",
      "./TB-50/Matrix/\n",
      "./TB-50/MotorRolling/\n",
      "./TB-50/Panda/\n",
      "./TB-50/RedTeam/\n",
      "./TB-50/Shaking/\n",
      "./TB-50/Singer2/\n",
      "./TB-50/Skating1/\n",
      "./TB-50/Skiing/\n",
      "./TB-50/Soccer/\n",
      "./TB-50/Surfer/\n",
      "./TB-50/Sylvester/\n",
      "./TB-50/Tiger2/\n",
      "./TB-50/Trellis/\n",
      "./TB-50/Walking/\n",
      "./TB-50/Walking2/\n",
      "./TB-50/Woman/\n"
     ]
    }
   ],
   "source": [
    "benchmark_sequences = tb_50.get_all_videos_and_groundtruths()\n",
    "\n",
    "for directory, video_path, ground_truth_file in benchmark_sequences:\n",
    "    print(directory)"
   ]
  },
  {
   "cell_type": "code",
   "execution_count": null,
   "metadata": {},
   "outputs": [],
   "source": []
  },
  {
   "cell_type": "markdown",
   "metadata": {},
   "source": [
    "<!--bibtex\n",
    "\n",
    "@Article{PER-GRA:2007,\n",
    "  Author    = {P\\'erez, Fernando and Granger, Brian E.},\n",
    "  Title     = {{IP}ython: a System for Interactive Scientific Computing},\n",
    "  Journal   = {Computing in Science and Engineering},\n",
    "  Volume    = {9},\n",
    "  Number    = {3},\n",
    "  Pages     = {21--29},\n",
    "  month     = may,\n",
    "  year      = 2007,\n",
    "  url       = \"http://ipython.org\",\n",
    "  ISSN      = \"1521-9615\",\n",
    "  doi       = {10.1109/MCSE.2007.53},\n",
    "  publisher = {IEEE Computer Society},\n",
    "}\n",
    "\n",
    "@article{Papa2007,\n",
    "  author = {Papa, David A. and Markov, Igor L.},\n",
    "  journal = {Approximation algorithms and metaheuristics},\n",
    "  pages = {1--38},\n",
    "  title = {{Hypergraph partitioning and clustering}},\n",
    "  url = {http://www.podload.org/pubs/book/part\\_survey.pdf},\n",
    "  year = {2007}\n",
    "}\n",
    "\n",
    "-->\n",
    "\n",
    "Examples of citations: [CITE](#cite-PER-GRA:2007) or [CITE](#cite-Papa2007)."
   ]
  }
 ],
 "metadata": {
  "kernelspec": {
   "display_name": "Python 3",
   "language": "python",
   "name": "python3"
  },
  "language_info": {
   "codemirror_mode": {
    "name": "ipython",
    "version": 3
   },
   "file_extension": ".py",
   "mimetype": "text/x-python",
   "name": "python",
   "nbconvert_exporter": "python",
   "pygments_lexer": "ipython3",
   "version": "3.5.2"
  }
 },
 "nbformat": 4,
 "nbformat_minor": 2
}
