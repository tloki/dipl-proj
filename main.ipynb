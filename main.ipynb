{
 "cells": [
  {
   "cell_type": "markdown",
   "metadata": {},
   "source": [
    "# Postupci praćenja objekata u računalnom vidu radnim okvirom OpenCV\n",
    "  \n",
    " ### Diplomski projekt: http://www.fer.unizg.hr/predmet/pro_dipl, siječanj 2018. FER, 2017/2018\n",
    " #### Autor: Tomislav Lokotar\n",
    " #### Mentor: izv. prof. dr. sc. Zoran Kalafatić"
   ]
  },
  {
   "cell_type": "markdown",
   "metadata": {},
   "source": [
    "# 1. Uvod\n",
    "\n",
    "OpenCV je vrlo raširen radni okvir koji nudi mnoge mogućnosti u kontekstu računalnog vida. Praćenje objekata u pokretu čest je problem kojeg je moguće upotrijebiti u razne svrhe. U ovom radu iznesen je kratak pregled implementiranih metoda za praćenje objekata, te njihova usporedba na javno dostupnim snimkama. Aktualna verzija u trenutku pisanja je OpenCV 3.4.0 u kojoj su implementirani slijedeći algoritmi praćenja: MedianFlow, MIL, GOTURN, KCF, Boosting, MOSSE i TLD. U sklopu projekta razvijen je i softver za usporedbu ugrađenih metoda praćenja. Skup podataka na kojem su algoritmi testirani je TB-50 [1]. TB-50 je skup 50 označenih sekvenci na kojima je označen najmanje jedan objekt koji se prati. Svi algoritmi, osim GOTURN s greškom u implementaciji [2], su uspješno testirani. Na slici 1 prikazan je prozor generiram skriptom za testiranje praćenja na videu s pokretnom kamerom, u procesu praćenja košarkaškog igrača algoritmom MIL.\n",
    "\n",
    "![slika1](docs/kosarka.png)\n",
    "<center>Slika 1: praćenje unaprijed označenog košarkaša na videosnimci</center> \n"
   ]
  },
  {
   "cell_type": "code",
   "execution_count": 29,
   "metadata": {},
   "outputs": [],
   "source": [
    "import cv2\n",
    "import numpy as np\n",
    "import cv_utils\n",
    "import bench_utils\n",
    "import tb_50\n",
    "import benchmark\n",
    "import sys\n",
    "import platform"
   ]
  },
  {
   "cell_type": "code",
   "execution_count": 31,
   "metadata": {},
   "outputs": [
    {
     "name": "stdout",
     "output_type": "stream",
     "text": [
      "Python version: 3.5.2\n",
      "OpenCV version: 3.4.0\n",
      "\n",
      "Available tracking algorithms:\n",
      "TrackerKCF, TrackerMOSSE, TrackerGOTURN, TrackerMedianFlow, TrackerBoosting, TrackerMIL, TrackerTLD\n",
      "\n",
      "Platforma na kojoj je skripta pokrenuta:\n",
      "\n",
      "x86_64\n",
      "#35~16.04.1-Ubuntu SMP Thu Jan 25 10:13:43 UTC 2018\n",
      "Linux-4.13.0-32-generic-x86_64-with-LinuxMint-18.3-sylvia\n",
      "uname_result(system='Linux', node='Z570', release='4.13.0-32-generic', version='#35~16.04.1-Ubuntu SMP Thu Jan 25 10:13:43 UTC 2018', machine='x86_64', processor='x86_64')\n",
      "Linux\n",
      "x86_64\n"
     ]
    }
   ],
   "source": [
    "cv_utils.info()\n",
    "\n",
    "v = cv2.__version__.split(\".\")\n",
    "cv_ver = tuple([int(e) for e in v])\n",
    "\n",
    "if sys.version_info < (3, 5, 0):\n",
    "    RuntimeError(\"Potrebna je novija verzija Python3 programskom jezika\")\n",
    "\n",
    "if cv_ver < (3, 3, 0):\n",
    "    RuntimeError(\"Potrebna je novije verzija OpenCV programskog paketa\")\n",
    "    \n",
    "print(\"\\nPlatforma na kojoj je skripta pokrenuta:\\n\")\n",
    "\n",
    "print(platform.machine())\n",
    "print(platform.version())\n",
    "print(platform.platform())\n",
    "print(platform.uname())\n",
    "print(platform.system())\n",
    "print(platform.processor())"
   ]
  },
  {
   "cell_type": "code",
   "execution_count": 3,
   "metadata": {},
   "outputs": [
    {
     "name": "stdout",
     "output_type": "stream",
     "text": [
      "TrackerKCF\n",
      "TrackerMOSSE\n",
      "TrackerGOTURN\n",
      "TrackerMedianFlow\n",
      "TrackerBoosting\n",
      "TrackerMIL\n",
      "TrackerTLD\n"
     ]
    }
   ],
   "source": [
    "algorithms = cv_utils.tracking_algorithms()\n",
    "\n",
    "for alg in algorithms:\n",
    "    print(alg)"
   ]
  },
  {
   "cell_type": "markdown",
   "metadata": {},
   "source": [
    "U rječniku <i>algorithms</i> pohranjeni su uređeni parovi konstruktora objekata koji predstavljaju algoritme praćenja, te pripadajuće funkcije za njihovo instanciranje."
   ]
  },
  {
   "cell_type": "code",
   "execution_count": 4,
   "metadata": {},
   "outputs": [
    {
     "name": "stdout",
     "output_type": "stream",
     "text": [
      "(<class 'cv2.TrackerGOTURN'>, <built-in function TrackerGOTURN_create>)\n"
     ]
    }
   ],
   "source": [
    "print(algorithms['TrackerGOTURN'])"
   ]
  },
  {
   "cell_type": "code",
   "execution_count": 5,
   "metadata": {},
   "outputs": [],
   "source": [
    "goturn_create = algorithms['TrackerGOTURN'][1]\n",
    "\n",
    "goturn_tracker = goturn_create()"
   ]
  },
  {
   "cell_type": "markdown",
   "metadata": {},
   "source": [
    "U trenutnoj verziji OpenCV-a nije moguće pratiti objekt algoritmom GOTURN [3], pa je njegova funkcionalnost izuzeta iz evaluacije algoritama."
   ]
  },
  {
   "cell_type": "markdown",
   "metadata": {},
   "source": [
    "# 2 Analiza uspješnosti algoritama praćenja"
   ]
  },
  {
   "cell_type": "markdown",
   "metadata": {},
   "source": [
    "## 2.1 Mjera uspješnosti praćenja\n",
    "\n",
    "Kao mjera uspješnosti praćenja objekata korištena je funkcija $$C_{suc}(f)= \\frac{\\left | r\\cap  r_g \\right |}{\\left | r \\cup r_g\\right |  }$$ na sličan način kao što su je koristili Janku, Koplik, Dulik[4]. Varijabla <i>r</i> predstavlja pravokutnik označen algoritmom praćenja, dok je <i>r<sub>g</sub></i> pravokutnik ručno označen na korištenim sekvencama. Idealna vrijednost, kad algoritam praćenja označi pravokutnik koji se poklapa s označenim, je 1. 0 je najmanja vrijednost i predstavlja promašaj u postupku praćenja. Mjerenje se vrši za svaku sličicu sekvence. Postupak testiranja počinje inicijalizacijom algoritma praćenja s ručno označenim pravokutnikom. Ukoliko algoritam praćenja u nekom trenutku postigne vrijednost funkcije <i>C<sub>suc</sub></i> ispod postavljene granice (obično 0.5 ili više), algoritam se reinicijalizira na ručno označeno područje, a broj reinicijalizacija se inkrementira. U situaciji praćenja objekta u stvarnom vremenu, reinicijalizacija se može poistovjetiti s upotrijebom detektora objekata."
   ]
  },
  {
   "cell_type": "markdown",
   "metadata": {},
   "source": [
    "## 2.2 Podaci za testiranje\n",
    "\n",
    "Skup podataka na kojima su testirani algoritmi je TB-50[5]. TB-50 je javno dostupan označen skup podataka sa sekvencama u svrhu evalucije algoritama praćenja. Svaka sekvenca ima postavljenu jednu ili više zastavica ovisno o vrsti problema. Vrste problema uključuju nagle promjene osvjetljenja na objekt u praćenju, nagle promjene udaljenosti objekata, prekrivanje objekta, deformacije, zamućenost, brze pokrete, rotacije, napuštanje okvira snimke, tešku razlučivost objekta u odnosu na njegovu pozadinu, te snimke niske rezolucije."
   ]
  },
  {
   "cell_type": "markdown",
   "metadata": {},
   "source": [
    "Popis video datoteka:"
   ]
  },
  {
   "cell_type": "code",
   "execution_count": 6,
   "metadata": {},
   "outputs": [
    {
     "name": "stdout",
     "output_type": "stream",
     "text": [
      "./TB-50/Basketball/ ./TB-50/Biker/ ./TB-50/Bird1/ ./TB-50/BlurBody/ ./TB-50/BlurCar2/ ./TB-50/BlurFace/ ./TB-50/BlurOwl/ ./TB-50/Box/ ./TB-50/Car1/ ./TB-50/Car4/ ./TB-50/CarDark/ ./TB-50/CarScale/ ./TB-50/ClifBar/ ./TB-50/Couple/ ./TB-50/Crowds/ ./TB-50/Deer/ ./TB-50/DragonBaby/ ./TB-50/Dudek/ ./TB-50/Girl/ ./TB-50/Human6/ ./TB-50/Human9/ ./TB-50/Ironman/ ./TB-50/Jump/ ./TB-50/Jumping/ ./TB-50/Matrix/ ./TB-50/MotorRolling/ ./TB-50/Panda/ ./TB-50/RedTeam/ ./TB-50/Shaking/ ./TB-50/Singer2/ ./TB-50/Skating1/ ./TB-50/Skiing/ ./TB-50/Soccer/ ./TB-50/Surfer/ ./TB-50/Sylvester/ ./TB-50/Tiger2/ ./TB-50/Trellis/ ./TB-50/Walking/ ./TB-50/Walking2/ ./TB-50/Woman/ \n"
     ]
    }
   ],
   "source": [
    "benchmark_sequences = tb_50.get_all_videos_and_groundtruths()\n",
    "\n",
    "for directory, video_path, ground_truth_file in benchmark_sequences:\n",
    "    print(directory, end=\" \")\n",
    "print()"
   ]
  },
  {
   "cell_type": "markdown",
   "metadata": {},
   "source": [
    "Primjer pokretanja funkcije za evaluaciju za algoritam MedianFlow, video Basketball. Prikazani su dostupne informacije o izvođenju algoritma."
   ]
  },
  {
   "cell_type": "code",
   "execution_count": 9,
   "metadata": {},
   "outputs": [
    {
     "name": "stdout",
     "output_type": "stream",
     "text": [
      "dict_keys(['tracker', 'video', 'fps', 'avg_iou', 'reset_count', 'bboxes', 'ious', 'iou_reset'])\n",
      "\n"
     ]
    }
   ],
   "source": [
    "result = benchmark.bench(algorithms['TrackerMedianFlow'][1], 'TB-50/Basketball/video.avi', \n",
    "                'TB-50/Basketball/groundtruth_rect.txt', reset_iou = 0.5, name='MedianFlow primjer')\n",
    "\n",
    "print(result.keys())\n",
    "print()"
   ]
  },
  {
   "cell_type": "markdown",
   "metadata": {},
   "source": [
    "Neke informacije o izvođenju:"
   ]
  },
  {
   "cell_type": "code",
   "execution_count": 10,
   "metadata": {},
   "outputs": [
    {
     "name": "stdout",
     "output_type": "stream",
     "text": [
      "avg_iou : 0.7423716824547375\n",
      "fps : 127.091595318266\n",
      "reset_count : 24\n"
     ]
    }
   ],
   "source": [
    "for arg in ('avg_iou', 'fps', 'reset_count'):\n",
    "    print(arg, \":\", result[arg])"
   ]
  },
  {
   "cell_type": "markdown",
   "metadata": {},
   "source": [
    "Pokušaj pokretanja za algoritam GOTURN[6]:"
   ]
  },
  {
   "cell_type": "code",
   "execution_count": 15,
   "metadata": {},
   "outputs": [
    {
     "name": "stdout",
     "output_type": "stream",
     "text": [
      "pogreska!\n"
     ]
    }
   ],
   "source": [
    "try:\n",
    "    result = benchmark.bench(algorithms['TrackerGOTURN'][1], 'TB-50/Basketball/video.avi', \n",
    "                    'TB-50/Basketball/groundtruth_rect.txt', reset_iou = 0.5, name='GOTURN primjer')\n",
    "except:\n",
    "    print(\"pogreska!\")\n",
    "    \n",
    "# za detalje o pogrešci potrebno je odkomentirati slijedeću liniju koda:\n",
    "# result = benchmark.bench(algorithms['TrackerGOTURN'][1], 'TB-50/Basketball/video.avi', \n",
    "                    # 'TB-50/Basketball/groundtruth_rect.txt', reset_iou = 0.5, name='GOTURN primjer')"
   ]
  },
  {
   "cell_type": "markdown",
   "metadata": {},
   "source": [
    "Kako u nastavku ne bi bilo problema s algoritmom GOTURN, izbacuje se iz rječnika dostupnih algoritama: "
   ]
  },
  {
   "cell_type": "code",
   "execution_count": 19,
   "metadata": {},
   "outputs": [],
   "source": [
    "# Za kasnije verzije OpenCV-a (3.4.x novije od 3.4.0) s očekivanom ispravkom pogreške, \n",
    "# potrebno je obrisati ili zakomentirati slijedece linije, kako bi se testiranje obavilo i za algoritam GOTURN:\n",
    "\n",
    "if \"TrackerGOTURN\" in algorithms:\n",
    "    del algorithms[\"TrackerGOTURN\"]"
   ]
  },
  {
   "cell_type": "markdown",
   "metadata": {},
   "source": [
    "TB-50 dataset je označen atributima ovisno o problemima koje predstavlja za algoritme praćenja. Definirani su slijedeći problemi:"
   ]
  },
  {
   "cell_type": "code",
   "execution_count": 33,
   "metadata": {},
   "outputs": [],
   "source": [
    "IV = \"Illumination Variation\"\n",
    "SV = \"Scale Variation\"\n",
    "OCC = \"Occlusion\"\n",
    "DEF = \"Deformation\"\n",
    "MB = \"Motion Blur\"\n",
    "FM = \"Fast Motion\"\n",
    "IPR = \"In-plane Rotation\"\n",
    "OPR = \"Out-of-Plane Rotation\"\n",
    "OV = \"Out-of-View\"\n",
    "BC = \"Background Clutters\"\n",
    "LR = \"Low Resolution\"\n",
    "\n",
    "problem_types = dict()"
   ]
  },
  {
   "cell_type": "markdown",
   "metadata": {},
   "source": [
    "Svaka sekvenca iz TB-50 ima dodijeljen jedan ili više problema:"
   ]
  },
  {
   "cell_type": "code",
   "execution_count": 39,
   "metadata": {},
   "outputs": [],
   "source": [
    "problem_types[IV] = [\"Basketball\", \"Box\", \"Car1\", \"Car2\", \"Car24\", \"Car4\", \"CarDark\", \"Coke\", \"Crowds\", \"David\", \"Doll\", \"FaceOcc2\", \"Fish\", \"Human2\", \"Human4.2\", \"Human7\", \"Human8\", \"Human9\", \"Ironman\", \"KiteSurf\", \"Lemming\", \"Liquor\", \"Man\", \"Matrix\", \"Mhyang\", \"MotorRolling\", \"Shaking\", \"Singer1\", \"Singer2\", \"Skating1\", \"Skiing\", \"Soccer\", \"Sylvester\", \"Tiger1\", \"Tiger2\", \"Trans\", \"Trellis\", \"Woman\"]\n",
    "problem_types[SV] = [\"Biker\", \"BlurBody\", \"BlurCar2\", \"BlurOwl\", \"Board\", \"Box\", \"Boy\", \"Car1\", \"Car24\", \"Car4\", \"CarScale\", \"ClifBar\", \"Couple\", \"Crossing\", \"Dancer\", \"David\", \"Diving\", \"Dog\", \"Dog1\", \"Doll\", \"DragonBaby\", \"Dudek\", \"FleetFace\", \"Freeman1\", \"Freeman3\", \"Freeman4\", \"Girl\", \"Girl2\", \"Gym\", \"Human2\", \"Human3\", \"Human4.2\", \"Human5\", \"Human6\", \"Human7\", \"Human8\", \"Human9\", \"Ironman\", \"Jump\", \"Lemming\", \"Liquor\", \"Matrix\", \"MotorRolling\", \"Panda\", \"RedTeam\", \"Rubik\", \"Shaking\", \"Singer1\", \"Skater\", \"Skater2\", \"Skating1\", \"Skating2.1\", \"Skating2.2\", \"Skiing\", \"Soccer\", \"Surfer\", \"Toy\", \"Trans\", \"Trellis\", \"Twinnings\", \"Vase\", \"Walking\", \"Walking2\", \"Woman\"]\n",
    "problem_types[OCC] = [\"Basketball\", \"Biker\", \"Bird2\", \"Bolt\", \"Box\", \"CarScale\", \"ClifBar\", \"Coke\", \"Coupon\", \"David\", \"David3\", \"Doll\", \"DragonBaby\", \"Dudek\", \"FaceOcc1\", \"FaceOcc2\", \"Football\", \"Freeman4\", \"Girl\", \"Girl2\", \"Human3\", \"Human4.2\", \"Human5\", \"Human6\", \"Human7\", \"Ironman\", \"Jogging.1\", \"Jogging.2\", \"Jump\", \"KiteSurf\", \"Lemming\", \"Liquor\", \"Matrix\", \"Panda\", \"RedTeam\", \"Rubik\", \"Singer1\", \"Skating1\", \"Skating2.1\", \"Skating2.2\", \"Soccer\", \"Subway\", \"Suv\", \"Tiger1\", \"Tiger2\", \"Trans\", \"Walking\", \"Walking2\", \"Woman\"]\n",
    "problem_types[DEF] = [\"Basketball\", \"Bird1\", \"Bird2\", \"BlurBody\", \"Bolt\", \"Bolt2\", \"Couple\", \"Crossing\", \"Crowds\", \"Dancer\", \"Dancer2\", \"David\", \"David3\", \"Diving\", \"Dog\", \"Dudek\", \"FleetFace\", \"Girl2\", \"Gym\", \"Human3\", \"Human4.2\", \"Human5\", \"Human6\", \"Human7\", \"Human8\", \"Human9\", \"Jogging.1\", \"Jogging.2\", \"Jump\", \"Mhyang\", \"Panda\", \"Singer2\", \"Skater\", \"Skater2\", \"Skating1\", \"Skating2.1\", \"Skating2.2\", \"Skiing\", \"Subway\", \"Tiger1\", \"Tiger2\", \"Trans\", \"Walking\", \"Woman\"]\n",
    "problem_types[MB] = [\"Biker\", \"BlurBody\", \"BlurCar1\", \"BlurCar2\", \"BlurCar3\", \"BlurCar4\", \"BlurFace\", \"BlurOwl\", \"Board\", \"Box\", \"Boy\", \"ClifBar\", \"David\", \"Deer\", \"DragonBaby\", \"FleetFace\", \"Girl2\", \"Human2\", \"Human7\", \"Human9\", \"Ironman\", \"Jump\", \"Jumping\", \"Liquor\", \"MotorRolling\", \"Soccer\", \"Tiger1\", \"Tiger2\", \"Woman\"]\n",
    "problem_types[FM] = [\"Biker\", \"Bird1\", \"Bird2\", \"BlurBody\", \"BlurCar1\", \"BlurCar2\", \"BlurCar3\", \"BlurCar4\", \"BlurFace\", \"BlurOwl\", \"Board\", \"Boy\", \"CarScale\", \"ClifBar\", \"Coke\", \"Couple\", \"Deer\", \"DragonBaby\", \"Dudek\", \"FleetFace\", \"Human6\", \"Human7\", \"Human9\", \"Ironman\", \"Jumping\", \"Lemming\", \"Liquor\", \"Matrix\", \"MotorRolling\", \"Skater2\", \"Skating2.1\", \"Skating2.2\", \"Soccer\", \"Surfer\", \"Tiger1\", \"Tiger2\", \"Toy\", \"Vase\", \"Woman\"]\n",
    "problem_types[IPR] = [\"Bird2\", \"BlurBody\", \"BlurFace\", \"BlurOwl\", \"Bolt\", \"Box\", \"Boy\", \"CarScale\", \"ClifBar\", \"Coke\", \"Dancer\", \"David\", \"David2\", \"Deer\", \"Diving\", \"Dog1\", \"Doll\", \"DragonBaby\", \"Dudek\", \"FaceOcc2\", \"FleetFace\", \"Football\", \"Football1\", \"Freeman1\", \"Freeman3\", \"Freeman4\", \"Girl\", \"Gym\", \"Ironman\", \"Jump\", \"KiteSurf\", \"Matrix\", \"MotorRolling\", \"MountainBike\", \"Panda\", \"RedTeam\", \"Rubik\", \"Shaking\", \"Singer2\", \"Skater\", \"Skater2\", \"Skiing\", \"Soccer\", \"Surfer\", \"Suv\", \"Sylvester\", \"Tiger1\", \"Tiger2\", \"Toy\", \"Trellis\", \"Vase\"]\n",
    "problem_types[OPR] = [\"Basketball\", \"Biker\", \"Bird2\", \"Board\", \"Bolt\", \"Box\", \"Boy\", \"CarScale\", \"Coke\", \"Couple\", \"Dancer\", \"David\", \"David2\", \"David3\", \"Dog\", \"Dog1\", \"Doll\", \"DragonBaby\", \"Dudek\", \"FaceOcc2\", \"FleetFace\", \"Football\", \"Football1\", \"Freeman1\", \"Freeman3\", \"Freeman4\", \"Girl\", \"Girl2\", \"Gym\", \"Human2\", \"Human3\", \"Human6\", \"Ironman\", \"Jogging.1\", \"Jogging.2\", \"Jump\", \"KiteSurf\", \"Lemming\", \"Liquor\", \"Matrix\", \"Mhyang\", \"MountainBike\", \"Panda\", \"RedTeam\", \"Rubik\", \"Shaking\", \"Singer1\", \"Singer2\", \"Skater\", \"Skater2\", \"Skating1\", \"Skating2.1\", \"Skating2.2\", \"Skiing\", \"Soccer\", \"Surfer\", \"Sylvester\", \"Tiger1\", \"Tiger2\", \"Toy\", \"Trellis\", \"Twinnings\", \"Woman\"]\n",
    "problem_types[OV] = [\"Biker\", \"Bird1\", \"Board\", \"Box\", \"ClifBar\", \"DragonBaby\", \"Dudek\", \"Human6\", \"Ironman\", \"Lemming\", \"Liquor\", \"Panda\", \"Suv\", \"Tiger2\"]\n",
    "problem_types[BC] = [\"Basketball\", \"Board\", \"Bolt2\", \"Box\", \"Car1\", \"Car2\", \"Car24\", \"CarDark\", \"ClifBar\", \"Couple\", \"Coupon\", \"Crossing\", \"Crowds\", \"David3\", \"Deer\", \"Dudek\", \"Football\", \"Football1\", \"Human3\", \"Ironman\", \"Liquor\", \"Matrix\", \"Mhyang\", \"MotorRolling\", \"MountainBike\", \"Shaking\", \"Singer2\", \"Skating1\", \"Soccer\", \"Subway\", \"Trellis\"]\n",
    "problem_types[LR] = [\"Biker\", \"Car1\", \"Freeman3\", \"Freeman4\", \"Panda\", \"RedTeam\", \"Skiing\", \"Surfer\", \"Walking\"]"
   ]
  },
  {
   "cell_type": "markdown",
   "metadata": {},
   "source": [
    "# 3. Rezultati"
   ]
  },
  {
   "cell_type": "markdown",
   "metadata": {},
   "source": [
    "U nastavku su prikazani rezultati uspješnosti izvođenja pojedinih algoritama:"
   ]
  },
  {
   "cell_type": "code",
   "execution_count": 40,
   "metadata": {},
   "outputs": [],
   "source": [
    "# parameters:\n",
    "\n",
    "IOU_RESET_VALUES = [0.5, 0.6, 0.7]"
   ]
  },
  {
   "cell_type": "code",
   "execution_count": null,
   "metadata": {},
   "outputs": [],
   "source": [
    "# initialization:\n",
    "\n",
    "results = dict()\n",
    "\n",
    "# load from hdd\n"
   ]
  },
  {
   "cell_type": "code",
   "execution_count": null,
   "metadata": {},
   "outputs": [],
   "source": [
    "# benchmark process:\n",
    "\n",
    "for iou_res in IOU_RESET_VALUES:\n",
    "    for directory, video_path, ground_truth_file in benchmark_sequences:\n",
    "        for algorithm_name in sorted(algorithms.keys()):\n",
    "            if not (iou_res, directory, algorithm_name) in results:\n",
    "                results[(iou_res, directory, algorithm_name)] = benchmark.bench(algorithms[algorithm_name][1], \n",
    "                                                                                video_path, \n",
    "                                                                                ground_truth_file, \n",
    "                                                                                reset_iou = iou_res,\n",
    "                                                                                name=algorithm_name)"
   ]
  }
 ],
 "metadata": {
  "kernelspec": {
   "display_name": "Python 3",
   "language": "python",
   "name": "python3"
  },
  "language_info": {
   "codemirror_mode": {
    "name": "ipython",
    "version": 3
   },
   "file_extension": ".py",
   "mimetype": "text/x-python",
   "name": "python",
   "nbconvert_exporter": "python",
   "pygments_lexer": "ipython3",
   "version": "3.5.2"
  }
 },
 "nbformat": 4,
 "nbformat_minor": 2
}
